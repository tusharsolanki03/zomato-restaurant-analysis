{
 "cells": [
  {
   "cell_type": "code",
   "execution_count": 1,
   "id": "4d4447e4",
   "metadata": {},
   "outputs": [],
   "source": [
    "import pandas as pd\n",
    "import numpy as np\n",
    "import matplotlib.pyplot as plt"
   ]
  },
  {
   "cell_type": "code",
   "execution_count": 2,
   "id": "8aa326ea",
   "metadata": {},
   "outputs": [],
   "source": [
    "zomato = pd.read_excel(r\"C:\\Users\\LENOVO\\Desktop\\Excelr\\Projects\\excelr\\Zomato\\Zomata.xlsx\", sheet_name=0)\n",
    "country = pd.read_excel(r\"C:\\Users\\LENOVO\\Desktop\\Excelr\\Projects\\excelr\\Zomato\\DA -P198. Final Project Submission Group  7\\Excel Zomato.xlsx\", sheet_name=1)\n",
    "currency = pd.read_excel(r\"C:\\Users\\LENOVO\\Desktop\\Excelr\\Projects\\excelr\\Zomato\\DA -P198. Final Project Submission Group  7\\Excel Zomato.xlsx\", sheet_name=2)"
   ]
  },
  {
   "cell_type": "markdown",
   "id": "8d4b9d6f",
   "metadata": {},
   "source": [
    "# Explotary data analysis"
   ]
  },
  {
   "cell_type": "markdown",
   "id": "5cf248dd",
   "metadata": {},
   "source": [
    "### Zomato"
   ]
  },
  {
   "cell_type": "code",
   "execution_count": 3,
   "id": "98bc7e8c",
   "metadata": {},
   "outputs": [
    {
     "data": {
      "text/html": [
       "<div>\n",
       "<style scoped>\n",
       "    .dataframe tbody tr th:only-of-type {\n",
       "        vertical-align: middle;\n",
       "    }\n",
       "\n",
       "    .dataframe tbody tr th {\n",
       "        vertical-align: top;\n",
       "    }\n",
       "\n",
       "    .dataframe thead th {\n",
       "        text-align: right;\n",
       "    }\n",
       "</style>\n",
       "<table border=\"1\" class=\"dataframe\">\n",
       "  <thead>\n",
       "    <tr style=\"text-align: right;\">\n",
       "      <th></th>\n",
       "      <th>RestaurantID</th>\n",
       "      <th>RestaurantName</th>\n",
       "      <th>CountryCode</th>\n",
       "      <th>City</th>\n",
       "      <th>Address</th>\n",
       "      <th>Locality</th>\n",
       "      <th>LocalityVerbose</th>\n",
       "      <th>Longitude</th>\n",
       "      <th>Latitude</th>\n",
       "      <th>Cuisines</th>\n",
       "      <th>Currency</th>\n",
       "      <th>Has_Table_booking</th>\n",
       "      <th>Has_Online_delivery</th>\n",
       "      <th>Is_delivering_now</th>\n",
       "      <th>Switch_to_order_menu</th>\n",
       "      <th>Price_range</th>\n",
       "      <th>Votes</th>\n",
       "      <th>Average_Cost_for_two</th>\n",
       "      <th>Rating</th>\n",
       "      <th>Datekey_Opening</th>\n",
       "    </tr>\n",
       "  </thead>\n",
       "  <tbody>\n",
       "    <tr>\n",
       "      <th>0</th>\n",
       "      <td>18435314</td>\n",
       "      <td>Punjabi's Veg Grill</td>\n",
       "      <td>1</td>\n",
       "      <td>New Delhi</td>\n",
       "      <td>13/288 , 14 Block Gurudwra, Geeta Colony, New ...</td>\n",
       "      <td>Geeta Colony</td>\n",
       "      <td>Geeta Colony, New Delhi</td>\n",
       "      <td>77.276769</td>\n",
       "      <td>28.650775</td>\n",
       "      <td>North Indian</td>\n",
       "      <td>Indian Rupees(Rs.)</td>\n",
       "      <td>No</td>\n",
       "      <td>No</td>\n",
       "      <td>No</td>\n",
       "      <td>No</td>\n",
       "      <td>1</td>\n",
       "      <td>0</td>\n",
       "      <td>300</td>\n",
       "      <td>1.0</td>\n",
       "      <td>2013_9_21</td>\n",
       "    </tr>\n",
       "    <tr>\n",
       "      <th>1</th>\n",
       "      <td>18378015</td>\n",
       "      <td>Tasty Tandoor</td>\n",
       "      <td>1</td>\n",
       "      <td>New Delhi</td>\n",
       "      <td>726/2, Jheel Khuranja, Geeta Colony, New Delhi</td>\n",
       "      <td>Geeta Colony</td>\n",
       "      <td>Geeta Colony, New Delhi</td>\n",
       "      <td>77.275052</td>\n",
       "      <td>28.658216</td>\n",
       "      <td>North Indian</td>\n",
       "      <td>Indian Rupees(Rs.)</td>\n",
       "      <td>No</td>\n",
       "      <td>No</td>\n",
       "      <td>No</td>\n",
       "      <td>No</td>\n",
       "      <td>1</td>\n",
       "      <td>0</td>\n",
       "      <td>200</td>\n",
       "      <td>1.0</td>\n",
       "      <td>2016_9_10</td>\n",
       "    </tr>\n",
       "    <tr>\n",
       "      <th>2</th>\n",
       "      <td>18424905</td>\n",
       "      <td>Taste of Spice</td>\n",
       "      <td>1</td>\n",
       "      <td>New Delhi</td>\n",
       "      <td>C-222, Lajpat Nagar 1, New Delhi</td>\n",
       "      <td>Lajpat Nagar 1</td>\n",
       "      <td>Lajpat Nagar 1, New Delhi</td>\n",
       "      <td>77.241312</td>\n",
       "      <td>28.578311</td>\n",
       "      <td>North Indian</td>\n",
       "      <td>Indian Rupees(Rs.)</td>\n",
       "      <td>No</td>\n",
       "      <td>Yes</td>\n",
       "      <td>No</td>\n",
       "      <td>No</td>\n",
       "      <td>1</td>\n",
       "      <td>0</td>\n",
       "      <td>400</td>\n",
       "      <td>1.0</td>\n",
       "      <td>2018_9_25</td>\n",
       "    </tr>\n",
       "    <tr>\n",
       "      <th>3</th>\n",
       "      <td>18180072</td>\n",
       "      <td>Kolcata Bengali Dhaba</td>\n",
       "      <td>1</td>\n",
       "      <td>New Delhi</td>\n",
       "      <td>Gali 7, Mahipalpur, New Delhi</td>\n",
       "      <td>Mahipalpur</td>\n",
       "      <td>Mahipalpur, New Delhi</td>\n",
       "      <td>77.123932</td>\n",
       "      <td>28.543587</td>\n",
       "      <td>North Indian</td>\n",
       "      <td>Indian Rupees(Rs.)</td>\n",
       "      <td>No</td>\n",
       "      <td>No</td>\n",
       "      <td>No</td>\n",
       "      <td>No</td>\n",
       "      <td>1</td>\n",
       "      <td>0</td>\n",
       "      <td>100</td>\n",
       "      <td>1.0</td>\n",
       "      <td>2018_9_6</td>\n",
       "    </tr>\n",
       "    <tr>\n",
       "      <th>4</th>\n",
       "      <td>18415377</td>\n",
       "      <td>Sunil Punjabi Dhaba</td>\n",
       "      <td>1</td>\n",
       "      <td>New Delhi</td>\n",
       "      <td>Main Vasant Kunj Road, Mahipalpur, New Delhi</td>\n",
       "      <td>Mahipalpur</td>\n",
       "      <td>Mahipalpur, New Delhi</td>\n",
       "      <td>77.129706</td>\n",
       "      <td>28.541369</td>\n",
       "      <td>North Indian</td>\n",
       "      <td>Indian Rupees(Rs.)</td>\n",
       "      <td>No</td>\n",
       "      <td>No</td>\n",
       "      <td>No</td>\n",
       "      <td>No</td>\n",
       "      <td>1</td>\n",
       "      <td>0</td>\n",
       "      <td>150</td>\n",
       "      <td>1.0</td>\n",
       "      <td>2013_9_17</td>\n",
       "    </tr>\n",
       "  </tbody>\n",
       "</table>\n",
       "</div>"
      ],
      "text/plain": [
       "   RestaurantID         RestaurantName  CountryCode       City  \\\n",
       "0      18435314    Punjabi's Veg Grill            1  New Delhi   \n",
       "1      18378015          Tasty Tandoor            1  New Delhi   \n",
       "2      18424905         Taste of Spice            1  New Delhi   \n",
       "3      18180072  Kolcata Bengali Dhaba            1  New Delhi   \n",
       "4      18415377    Sunil Punjabi Dhaba            1  New Delhi   \n",
       "\n",
       "                                             Address        Locality  \\\n",
       "0  13/288 , 14 Block Gurudwra, Geeta Colony, New ...    Geeta Colony   \n",
       "1     726/2, Jheel Khuranja, Geeta Colony, New Delhi    Geeta Colony   \n",
       "2                   C-222, Lajpat Nagar 1, New Delhi  Lajpat Nagar 1   \n",
       "3                      Gali 7, Mahipalpur, New Delhi      Mahipalpur   \n",
       "4       Main Vasant Kunj Road, Mahipalpur, New Delhi      Mahipalpur   \n",
       "\n",
       "             LocalityVerbose  Longitude   Latitude      Cuisines  \\\n",
       "0    Geeta Colony, New Delhi  77.276769  28.650775  North Indian   \n",
       "1    Geeta Colony, New Delhi  77.275052  28.658216  North Indian   \n",
       "2  Lajpat Nagar 1, New Delhi  77.241312  28.578311  North Indian   \n",
       "3      Mahipalpur, New Delhi  77.123932  28.543587  North Indian   \n",
       "4      Mahipalpur, New Delhi  77.129706  28.541369  North Indian   \n",
       "\n",
       "             Currency Has_Table_booking Has_Online_delivery Is_delivering_now  \\\n",
       "0  Indian Rupees(Rs.)                No                  No                No   \n",
       "1  Indian Rupees(Rs.)                No                  No                No   \n",
       "2  Indian Rupees(Rs.)                No                 Yes                No   \n",
       "3  Indian Rupees(Rs.)                No                  No                No   \n",
       "4  Indian Rupees(Rs.)                No                  No                No   \n",
       "\n",
       "  Switch_to_order_menu  Price_range  Votes  Average_Cost_for_two  Rating  \\\n",
       "0                   No            1      0                   300     1.0   \n",
       "1                   No            1      0                   200     1.0   \n",
       "2                   No            1      0                   400     1.0   \n",
       "3                   No            1      0                   100     1.0   \n",
       "4                   No            1      0                   150     1.0   \n",
       "\n",
       "  Datekey_Opening  \n",
       "0       2013_9_21  \n",
       "1       2016_9_10  \n",
       "2       2018_9_25  \n",
       "3        2018_9_6  \n",
       "4       2013_9_17  "
      ]
     },
     "execution_count": 3,
     "metadata": {},
     "output_type": "execute_result"
    }
   ],
   "source": [
    "zomato.head()"
   ]
  },
  {
   "cell_type": "code",
   "execution_count": 4,
   "id": "c5958ca8",
   "metadata": {},
   "outputs": [
    {
     "data": {
      "text/plain": [
       "(9551, 20)"
      ]
     },
     "execution_count": 4,
     "metadata": {},
     "output_type": "execute_result"
    }
   ],
   "source": [
    "#number of (rows,columns)\n",
    "zomato.shape"
   ]
  },
  {
   "cell_type": "code",
   "execution_count": 5,
   "id": "b256d17d",
   "metadata": {},
   "outputs": [
    {
     "data": {
      "text/plain": [
       "RestaurantID            0\n",
       "RestaurantName          0\n",
       "CountryCode             0\n",
       "City                    0\n",
       "Address                 0\n",
       "Locality                0\n",
       "LocalityVerbose         0\n",
       "Longitude               0\n",
       "Latitude                0\n",
       "Cuisines                9\n",
       "Currency                0\n",
       "Has_Table_booking       0\n",
       "Has_Online_delivery     0\n",
       "Is_delivering_now       0\n",
       "Switch_to_order_menu    0\n",
       "Price_range             0\n",
       "Votes                   0\n",
       "Average_Cost_for_two    0\n",
       "Rating                  0\n",
       "Datekey_Opening         0\n",
       "dtype: int64"
      ]
     },
     "execution_count": 5,
     "metadata": {},
     "output_type": "execute_result"
    }
   ],
   "source": [
    "#checking for null values\n",
    "# Cuisines column has 9 null values\n",
    "zomato.isnull().sum()"
   ]
  },
  {
   "cell_type": "code",
   "execution_count": 63,
   "id": "4316a88d",
   "metadata": {
    "scrolled": true
   },
   "outputs": [
    {
     "data": {
      "text/html": [
       "<div>\n",
       "<style scoped>\n",
       "    .dataframe tbody tr th:only-of-type {\n",
       "        vertical-align: middle;\n",
       "    }\n",
       "\n",
       "    .dataframe tbody tr th {\n",
       "        vertical-align: top;\n",
       "    }\n",
       "\n",
       "    .dataframe thead th {\n",
       "        text-align: right;\n",
       "    }\n",
       "</style>\n",
       "<table border=\"1\" class=\"dataframe\">\n",
       "  <thead>\n",
       "    <tr style=\"text-align: right;\">\n",
       "      <th></th>\n",
       "      <th>RestaurantID</th>\n",
       "      <th>RestaurantName</th>\n",
       "      <th>CountryCode</th>\n",
       "      <th>City</th>\n",
       "      <th>Address</th>\n",
       "      <th>Locality</th>\n",
       "      <th>LocalityVerbose</th>\n",
       "      <th>Longitude</th>\n",
       "      <th>Latitude</th>\n",
       "      <th>Cuisines</th>\n",
       "      <th>...</th>\n",
       "      <th>Has_Online_delivery</th>\n",
       "      <th>Is_delivering_now</th>\n",
       "      <th>Switch_to_order_menu</th>\n",
       "      <th>Price_range</th>\n",
       "      <th>Votes</th>\n",
       "      <th>Average_Cost_for_two</th>\n",
       "      <th>Rating</th>\n",
       "      <th>Datekey_Opening</th>\n",
       "      <th>cost_bucket</th>\n",
       "      <th>average_rating</th>\n",
       "    </tr>\n",
       "  </thead>\n",
       "  <tbody>\n",
       "  </tbody>\n",
       "</table>\n",
       "<p>0 rows × 22 columns</p>\n",
       "</div>"
      ],
      "text/plain": [
       "Empty DataFrame\n",
       "Columns: [RestaurantID, RestaurantName, CountryCode, City, Address, Locality, LocalityVerbose, Longitude, Latitude, Cuisines, Currency, Has_Table_booking, Has_Online_delivery, Is_delivering_now, Switch_to_order_menu, Price_range, Votes, Average_Cost_for_two, Rating, Datekey_Opening, cost_bucket, average_rating]\n",
       "Index: []\n",
       "\n",
       "[0 rows x 22 columns]"
      ]
     },
     "execution_count": 63,
     "metadata": {},
     "output_type": "execute_result"
    }
   ],
   "source": [
    "# Null values in cuisines column\n",
    "zomato[zomato['Cuisines'].isnull()]"
   ]
  },
  {
   "cell_type": "code",
   "execution_count": 7,
   "id": "4ba0d878",
   "metadata": {},
   "outputs": [],
   "source": [
    "#Removing all the rows with Null values \n",
    "zomato = zomato.dropna(axis=0,how='any')\n"
   ]
  },
  {
   "cell_type": "code",
   "execution_count": 8,
   "id": "d2450c1c",
   "metadata": {},
   "outputs": [
    {
     "data": {
      "text/plain": [
       "(9542, 20)"
      ]
     },
     "execution_count": 8,
     "metadata": {},
     "output_type": "execute_result"
    }
   ],
   "source": [
    "zomato.shape"
   ]
  },
  {
   "cell_type": "code",
   "execution_count": 9,
   "id": "ef83e29f",
   "metadata": {},
   "outputs": [
    {
     "data": {
      "text/plain": [
       "Index(['RestaurantID', 'RestaurantName', 'CountryCode', 'City', 'Address',\n",
       "       'Locality', 'LocalityVerbose', 'Longitude', 'Latitude', 'Cuisines',\n",
       "       'Currency', 'Has_Table_booking', 'Has_Online_delivery',\n",
       "       'Is_delivering_now', 'Switch_to_order_menu', 'Price_range', 'Votes',\n",
       "       'Average_Cost_for_two', 'Rating', 'Datekey_Opening'],\n",
       "      dtype='object')"
      ]
     },
     "execution_count": 9,
     "metadata": {},
     "output_type": "execute_result"
    }
   ],
   "source": [
    "zomato.columns"
   ]
  },
  {
   "cell_type": "code",
   "execution_count": 10,
   "id": "ae580cde",
   "metadata": {},
   "outputs": [
    {
     "data": {
      "text/plain": [
       "0        2013_9_21\n",
       "1        2016_9_10\n",
       "2        2018_9_25\n",
       "3         2018_9_6\n",
       "4        2013_9_17\n",
       "           ...    \n",
       "9546     2011_10_3\n",
       "9547     2013_10_1\n",
       "9548    2017_10_28\n",
       "9549    2015_10_23\n",
       "9550     2015_10_4\n",
       "Name: Datekey_Opening, Length: 9542, dtype: object"
      ]
     },
     "execution_count": 10,
     "metadata": {},
     "output_type": "execute_result"
    }
   ],
   "source": [
    "# This column is dates but it is not in correct format\n",
    "zomato['Datekey_Opening']"
   ]
  },
  {
   "cell_type": "code",
   "execution_count": 11,
   "id": "c636fab2",
   "metadata": {},
   "outputs": [],
   "source": [
    "# converting dates to date format\n",
    "zomato['Datekey_Opening'] = pd.to_datetime(zomato['Datekey_Opening'],format = '%Y_%m_%d')"
   ]
  },
  {
   "cell_type": "code",
   "execution_count": 12,
   "id": "72dbe48b",
   "metadata": {
    "scrolled": true
   },
   "outputs": [
    {
     "name": "stdout",
     "output_type": "stream",
     "text": [
      "<class 'pandas.core.frame.DataFrame'>\n",
      "Int64Index: 9542 entries, 0 to 9550\n",
      "Data columns (total 20 columns):\n",
      " #   Column                Non-Null Count  Dtype         \n",
      "---  ------                --------------  -----         \n",
      " 0   RestaurantID          9542 non-null   int64         \n",
      " 1   RestaurantName        9542 non-null   object        \n",
      " 2   CountryCode           9542 non-null   int64         \n",
      " 3   City                  9542 non-null   object        \n",
      " 4   Address               9542 non-null   object        \n",
      " 5   Locality              9542 non-null   object        \n",
      " 6   LocalityVerbose       9542 non-null   object        \n",
      " 7   Longitude             9542 non-null   float64       \n",
      " 8   Latitude              9542 non-null   float64       \n",
      " 9   Cuisines              9542 non-null   object        \n",
      " 10  Currency              9542 non-null   object        \n",
      " 11  Has_Table_booking     9542 non-null   object        \n",
      " 12  Has_Online_delivery   9542 non-null   object        \n",
      " 13  Is_delivering_now     9542 non-null   object        \n",
      " 14  Switch_to_order_menu  9542 non-null   object        \n",
      " 15  Price_range           9542 non-null   int64         \n",
      " 16  Votes                 9542 non-null   int64         \n",
      " 17  Average_Cost_for_two  9542 non-null   int64         \n",
      " 18  Rating                9542 non-null   float64       \n",
      " 19  Datekey_Opening       9542 non-null   datetime64[ns]\n",
      "dtypes: datetime64[ns](1), float64(3), int64(5), object(11)\n",
      "memory usage: 1.5+ MB\n"
     ]
    }
   ],
   "source": [
    "#Datekey_Opening column has been converted to datetime datatype\n",
    "zomato.info()"
   ]
  },
  {
   "cell_type": "code",
   "execution_count": 13,
   "id": "e8de23b6",
   "metadata": {},
   "outputs": [],
   "source": [
    "#creating cost bucket column based on 'Average_Cost_for_two'\n",
    "\n",
    "bins = [-np.inf,100,500,1000,np.inf]\n",
    "labels = ['<100','100-500','500-1000','>1000']\n",
    "zomato['cost_bucket'] = pd.cut(zomato['Average_Cost_for_two'],bins=bins,labels=labels)"
   ]
  },
  {
   "cell_type": "code",
   "execution_count": 14,
   "id": "0b8f5e03",
   "metadata": {},
   "outputs": [],
   "source": [
    "#creating average rating column based on 'Rating'\n",
    "bins = [0,1,2,3,4,5]\n",
    "labels = [1,2,3,4,5]\n",
    "zomato['average_rating'] = pd.cut(zomato['Rating'],bins=bins,labels=labels)"
   ]
  },
  {
   "cell_type": "code",
   "execution_count": 15,
   "id": "70f6d262",
   "metadata": {},
   "outputs": [],
   "source": [
    "# Merging Country and Currency DataFrame with zomato DataFrame\n",
    "# Renaming column in Country DataFrame to match the zomato DataFrame\n",
    "country.rename(columns={'CountryID':'CountryCode'},inplace=True)"
   ]
  },
  {
   "cell_type": "code",
   "execution_count": 16,
   "id": "ddc65174",
   "metadata": {
    "scrolled": false
   },
   "outputs": [
    {
     "data": {
      "text/html": [
       "<div>\n",
       "<style scoped>\n",
       "    .dataframe tbody tr th:only-of-type {\n",
       "        vertical-align: middle;\n",
       "    }\n",
       "\n",
       "    .dataframe tbody tr th {\n",
       "        vertical-align: top;\n",
       "    }\n",
       "\n",
       "    .dataframe thead th {\n",
       "        text-align: right;\n",
       "    }\n",
       "</style>\n",
       "<table border=\"1\" class=\"dataframe\">\n",
       "  <thead>\n",
       "    <tr style=\"text-align: right;\">\n",
       "      <th></th>\n",
       "      <th>RestaurantID</th>\n",
       "      <th>RestaurantName</th>\n",
       "      <th>CountryCode</th>\n",
       "      <th>City</th>\n",
       "      <th>Address</th>\n",
       "      <th>Locality</th>\n",
       "      <th>LocalityVerbose</th>\n",
       "      <th>Longitude</th>\n",
       "      <th>Latitude</th>\n",
       "      <th>Cuisines</th>\n",
       "      <th>...</th>\n",
       "      <th>Switch_to_order_menu</th>\n",
       "      <th>Price_range</th>\n",
       "      <th>Votes</th>\n",
       "      <th>Average_Cost_for_two</th>\n",
       "      <th>Rating</th>\n",
       "      <th>Datekey_Opening</th>\n",
       "      <th>cost_bucket</th>\n",
       "      <th>average_rating</th>\n",
       "      <th>Countryname</th>\n",
       "      <th>USD Rate</th>\n",
       "    </tr>\n",
       "  </thead>\n",
       "  <tbody>\n",
       "    <tr>\n",
       "      <th>0</th>\n",
       "      <td>18435314</td>\n",
       "      <td>Punjabi's Veg Grill</td>\n",
       "      <td>1</td>\n",
       "      <td>New Delhi</td>\n",
       "      <td>13/288 , 14 Block Gurudwra, Geeta Colony, New ...</td>\n",
       "      <td>Geeta Colony</td>\n",
       "      <td>Geeta Colony, New Delhi</td>\n",
       "      <td>77.276769</td>\n",
       "      <td>28.650775</td>\n",
       "      <td>North Indian</td>\n",
       "      <td>...</td>\n",
       "      <td>No</td>\n",
       "      <td>1</td>\n",
       "      <td>0</td>\n",
       "      <td>300</td>\n",
       "      <td>1.0</td>\n",
       "      <td>2013-09-21</td>\n",
       "      <td>100-500</td>\n",
       "      <td>1</td>\n",
       "      <td>India</td>\n",
       "      <td>0.012</td>\n",
       "    </tr>\n",
       "    <tr>\n",
       "      <th>1</th>\n",
       "      <td>18378015</td>\n",
       "      <td>Tasty Tandoor</td>\n",
       "      <td>1</td>\n",
       "      <td>New Delhi</td>\n",
       "      <td>726/2, Jheel Khuranja, Geeta Colony, New Delhi</td>\n",
       "      <td>Geeta Colony</td>\n",
       "      <td>Geeta Colony, New Delhi</td>\n",
       "      <td>77.275052</td>\n",
       "      <td>28.658216</td>\n",
       "      <td>North Indian</td>\n",
       "      <td>...</td>\n",
       "      <td>No</td>\n",
       "      <td>1</td>\n",
       "      <td>0</td>\n",
       "      <td>200</td>\n",
       "      <td>1.0</td>\n",
       "      <td>2016-09-10</td>\n",
       "      <td>100-500</td>\n",
       "      <td>1</td>\n",
       "      <td>India</td>\n",
       "      <td>0.012</td>\n",
       "    </tr>\n",
       "    <tr>\n",
       "      <th>2</th>\n",
       "      <td>18424905</td>\n",
       "      <td>Taste of Spice</td>\n",
       "      <td>1</td>\n",
       "      <td>New Delhi</td>\n",
       "      <td>C-222, Lajpat Nagar 1, New Delhi</td>\n",
       "      <td>Lajpat Nagar 1</td>\n",
       "      <td>Lajpat Nagar 1, New Delhi</td>\n",
       "      <td>77.241312</td>\n",
       "      <td>28.578311</td>\n",
       "      <td>North Indian</td>\n",
       "      <td>...</td>\n",
       "      <td>No</td>\n",
       "      <td>1</td>\n",
       "      <td>0</td>\n",
       "      <td>400</td>\n",
       "      <td>1.0</td>\n",
       "      <td>2018-09-25</td>\n",
       "      <td>100-500</td>\n",
       "      <td>1</td>\n",
       "      <td>India</td>\n",
       "      <td>0.012</td>\n",
       "    </tr>\n",
       "  </tbody>\n",
       "</table>\n",
       "<p>3 rows × 24 columns</p>\n",
       "</div>"
      ],
      "text/plain": [
       "   RestaurantID       RestaurantName  CountryCode       City  \\\n",
       "0      18435314  Punjabi's Veg Grill            1  New Delhi   \n",
       "1      18378015        Tasty Tandoor            1  New Delhi   \n",
       "2      18424905       Taste of Spice            1  New Delhi   \n",
       "\n",
       "                                             Address        Locality  \\\n",
       "0  13/288 , 14 Block Gurudwra, Geeta Colony, New ...    Geeta Colony   \n",
       "1     726/2, Jheel Khuranja, Geeta Colony, New Delhi    Geeta Colony   \n",
       "2                   C-222, Lajpat Nagar 1, New Delhi  Lajpat Nagar 1   \n",
       "\n",
       "             LocalityVerbose  Longitude   Latitude      Cuisines  ...  \\\n",
       "0    Geeta Colony, New Delhi  77.276769  28.650775  North Indian  ...   \n",
       "1    Geeta Colony, New Delhi  77.275052  28.658216  North Indian  ...   \n",
       "2  Lajpat Nagar 1, New Delhi  77.241312  28.578311  North Indian  ...   \n",
       "\n",
       "  Switch_to_order_menu Price_range Votes Average_Cost_for_two Rating  \\\n",
       "0                   No           1     0                  300    1.0   \n",
       "1                   No           1     0                  200    1.0   \n",
       "2                   No           1     0                  400    1.0   \n",
       "\n",
       "   Datekey_Opening  cost_bucket  average_rating  Countryname USD Rate  \n",
       "0       2013-09-21      100-500               1        India    0.012  \n",
       "1       2016-09-10      100-500               1        India    0.012  \n",
       "2       2018-09-25      100-500               1        India    0.012  \n",
       "\n",
       "[3 rows x 24 columns]"
      ]
     },
     "execution_count": 16,
     "metadata": {},
     "output_type": "execute_result"
    }
   ],
   "source": [
    "final_df = pd.merge(zomato,country, on='CountryCode', how='left')\n",
    "final_df = pd.merge(final_df,currency,on='Currency', how='left')\n",
    "final_df.head(3)"
   ]
  },
  {
   "cell_type": "code",
   "execution_count": 17,
   "id": "50e6523f",
   "metadata": {},
   "outputs": [],
   "source": [
    "#creating average cost in usd column\n",
    "final_df['Average_cost_USD'] = final_df['Average_Cost_for_two']*final_df['USD Rate']\n"
   ]
  },
  {
   "cell_type": "code",
   "execution_count": 18,
   "id": "e9bb8e85",
   "metadata": {
    "scrolled": true
   },
   "outputs": [
    {
     "data": {
      "text/plain": [
       "RestaurantID            0\n",
       "RestaurantName          0\n",
       "CountryCode             0\n",
       "City                    0\n",
       "Address                 0\n",
       "Locality                0\n",
       "LocalityVerbose         0\n",
       "Longitude               0\n",
       "Latitude                0\n",
       "Cuisines                0\n",
       "Currency                0\n",
       "Has_Table_booking       0\n",
       "Has_Online_delivery     0\n",
       "Is_delivering_now       0\n",
       "Switch_to_order_menu    0\n",
       "Price_range             0\n",
       "Votes                   0\n",
       "Average_Cost_for_two    0\n",
       "Rating                  0\n",
       "Datekey_Opening         0\n",
       "cost_bucket             0\n",
       "average_rating          0\n",
       "Countryname             0\n",
       "USD Rate                0\n",
       "Average_cost_USD        0\n",
       "dtype: int64"
      ]
     },
     "execution_count": 18,
     "metadata": {},
     "output_type": "execute_result"
    }
   ],
   "source": [
    "# Checking to See if final_df has any Null values\n",
    "final_df.isnull().sum()"
   ]
  },
  {
   "cell_type": "code",
   "execution_count": 43,
   "id": "7561da16",
   "metadata": {},
   "outputs": [
    {
     "data": {
      "text/plain": [
       "Countries      15\n",
       "Cities        140\n",
       "Cuisines     1825\n",
       "dtype: int64"
      ]
     },
     "execution_count": 43,
     "metadata": {},
     "output_type": "execute_result"
    }
   ],
   "source": [
    "#Number of country, city and Cuisines\n",
    "final_df[['CountryCode','City','Cuisines']].nunique().rename({'CountryCode':'Countries','City':'Cities'})"
   ]
  },
  {
   "cell_type": "markdown",
   "id": "ceb6a64c",
   "metadata": {},
   "source": [
    "# Data Analysis"
   ]
  },
  {
   "cell_type": "code",
   "execution_count": 20,
   "id": "7c41dfc6",
   "metadata": {
    "scrolled": false
   },
   "outputs": [
    {
     "data": {
      "text/html": [
       "<div>\n",
       "<style scoped>\n",
       "    .dataframe tbody tr th:only-of-type {\n",
       "        vertical-align: middle;\n",
       "    }\n",
       "\n",
       "    .dataframe tbody tr th {\n",
       "        vertical-align: top;\n",
       "    }\n",
       "\n",
       "    .dataframe thead th {\n",
       "        text-align: right;\n",
       "    }\n",
       "</style>\n",
       "<table border=\"1\" class=\"dataframe\">\n",
       "  <thead>\n",
       "    <tr style=\"text-align: right;\">\n",
       "      <th></th>\n",
       "      <th>Countryname</th>\n",
       "      <th>RestaurantName</th>\n",
       "    </tr>\n",
       "  </thead>\n",
       "  <tbody>\n",
       "    <tr>\n",
       "      <th>3</th>\n",
       "      <td>India</td>\n",
       "      <td>8652</td>\n",
       "    </tr>\n",
       "    <tr>\n",
       "      <th>14</th>\n",
       "      <td>United States</td>\n",
       "      <td>425</td>\n",
       "    </tr>\n",
       "    <tr>\n",
       "      <th>13</th>\n",
       "      <td>United Kingdom</td>\n",
       "      <td>80</td>\n",
       "    </tr>\n",
       "    <tr>\n",
       "      <th>1</th>\n",
       "      <td>Brazil</td>\n",
       "      <td>60</td>\n",
       "    </tr>\n",
       "    <tr>\n",
       "      <th>9</th>\n",
       "      <td>South Africa</td>\n",
       "      <td>60</td>\n",
       "    </tr>\n",
       "    <tr>\n",
       "      <th>12</th>\n",
       "      <td>United Arab Emirates</td>\n",
       "      <td>60</td>\n",
       "    </tr>\n",
       "    <tr>\n",
       "      <th>5</th>\n",
       "      <td>New Zealand</td>\n",
       "      <td>40</td>\n",
       "    </tr>\n",
       "    <tr>\n",
       "      <th>11</th>\n",
       "      <td>Turkey</td>\n",
       "      <td>34</td>\n",
       "    </tr>\n",
       "    <tr>\n",
       "      <th>0</th>\n",
       "      <td>Australia</td>\n",
       "      <td>24</td>\n",
       "    </tr>\n",
       "    <tr>\n",
       "      <th>6</th>\n",
       "      <td>Phillipines</td>\n",
       "      <td>22</td>\n",
       "    </tr>\n",
       "    <tr>\n",
       "      <th>4</th>\n",
       "      <td>Indonasia</td>\n",
       "      <td>21</td>\n",
       "    </tr>\n",
       "    <tr>\n",
       "      <th>7</th>\n",
       "      <td>Qatar</td>\n",
       "      <td>20</td>\n",
       "    </tr>\n",
       "    <tr>\n",
       "      <th>8</th>\n",
       "      <td>Singapore</td>\n",
       "      <td>20</td>\n",
       "    </tr>\n",
       "    <tr>\n",
       "      <th>10</th>\n",
       "      <td>Sri lanka</td>\n",
       "      <td>20</td>\n",
       "    </tr>\n",
       "    <tr>\n",
       "      <th>2</th>\n",
       "      <td>Canada</td>\n",
       "      <td>4</td>\n",
       "    </tr>\n",
       "  </tbody>\n",
       "</table>\n",
       "</div>"
      ],
      "text/plain": [
       "             Countryname  RestaurantName\n",
       "3                  India            8652\n",
       "14         United States             425\n",
       "13        United Kingdom              80\n",
       "1                 Brazil              60\n",
       "9           South Africa              60\n",
       "12  United Arab Emirates              60\n",
       "5            New Zealand              40\n",
       "11                Turkey              34\n",
       "0              Australia              24\n",
       "6            Phillipines              22\n",
       "4              Indonasia              21\n",
       "7                  Qatar              20\n",
       "8              Singapore              20\n",
       "10             Sri lanka              20\n",
       "2                 Canada               4"
      ]
     },
     "execution_count": 20,
     "metadata": {},
     "output_type": "execute_result"
    }
   ],
   "source": [
    "# count of Restaurants by Country\n",
    "country_count = final_df.groupby(['Countryname']).agg({'RestaurantName':'size'}).reset_index().sort_values('RestaurantName',ascending=False)\n",
    "country_count"
   ]
  },
  {
   "cell_type": "code",
   "execution_count": 21,
   "id": "c6d8dc00",
   "metadata": {},
   "outputs": [
    {
     "data": {
      "text/plain": [
       "Text(0.5, 1.0, 'Number of Restaurants by Country')"
      ]
     },
     "execution_count": 21,
     "metadata": {},
     "output_type": "execute_result"
    },
    {
     "data": {
      "image/png": "[encoded data removed]",
      "text/plain": [
       "<Figure size 640x480 with 1 Axes>"
      ]
     },
     "metadata": {},
     "output_type": "display_data"
    }
   ],
   "source": [
    "plt.barh(country_count['Countryname'],country_count['RestaurantName'],color='royalblue')\n",
    "\n",
    "for i,v in enumerate(country_count['RestaurantName']):\n",
    "    plt.text(v, i, str(v), va='center', fontsize=10, color='grey')\n",
    "    \n",
    "plt.xlabel('Number of Restaurants')\n",
    "plt.ylabel('Country')\n",
    "plt.title('Number of Restaurants by Country')"
   ]
  },
  {
   "cell_type": "code",
   "execution_count": 45,
   "id": "97332081",
   "metadata": {},
   "outputs": [
    {
     "data": {
      "text/html": [
       "<div>\n",
       "<style scoped>\n",
       "    .dataframe tbody tr th:only-of-type {\n",
       "        vertical-align: middle;\n",
       "    }\n",
       "\n",
       "    .dataframe tbody tr th {\n",
       "        vertical-align: top;\n",
       "    }\n",
       "\n",
       "    .dataframe thead th {\n",
       "        text-align: right;\n",
       "    }\n",
       "</style>\n",
       "<table border=\"1\" class=\"dataframe\">\n",
       "  <thead>\n",
       "    <tr style=\"text-align: right;\">\n",
       "      <th></th>\n",
       "      <th>RestaurantName</th>\n",
       "    </tr>\n",
       "    <tr>\n",
       "      <th>average_rating</th>\n",
       "      <th></th>\n",
       "    </tr>\n",
       "  </thead>\n",
       "  <tbody>\n",
       "    <tr>\n",
       "      <th>1</th>\n",
       "      <td>2148</td>\n",
       "    </tr>\n",
       "    <tr>\n",
       "      <th>2</th>\n",
       "      <td>10</td>\n",
       "    </tr>\n",
       "    <tr>\n",
       "      <th>3</th>\n",
       "      <td>1891</td>\n",
       "    </tr>\n",
       "    <tr>\n",
       "      <th>4</th>\n",
       "      <td>4381</td>\n",
       "    </tr>\n",
       "    <tr>\n",
       "      <th>5</th>\n",
       "      <td>1112</td>\n",
       "    </tr>\n",
       "  </tbody>\n",
       "</table>\n",
       "</div>"
      ],
      "text/plain": [
       "                RestaurantName\n",
       "average_rating                \n",
       "1                         2148\n",
       "2                           10\n",
       "3                         1891\n",
       "4                         4381\n",
       "5                         1112"
      ]
     },
     "execution_count": 45,
     "metadata": {},
     "output_type": "execute_result"
    }
   ],
   "source": [
    "#Count of restaurant based on average rating\n",
    "avgrat = final_df.groupby(['average_rating']).agg({'RestaurantName':'size'})\n",
    "avgrat"
   ]
  },
  {
   "cell_type": "code",
   "execution_count": 23,
   "id": "9ce4c5a4",
   "metadata": {
    "scrolled": false
   },
   "outputs": [
    {
     "data": {
      "text/plain": [
       "Text(0, 0.5, 'Count of Restaurants')"
      ]
     },
     "execution_count": 23,
     "metadata": {},
     "output_type": "execute_result"
    },
    {
     "data": {
      "image/png": "[encoded data removed]",
      "text/plain": [
       "<Figure size 640x480 with 1 Axes>"
      ]
     },
     "metadata": {},
     "output_type": "display_data"
    }
   ],
   "source": [
    "fig,ax=plt.subplots()\n",
    "bars=ax.bar(avgrat.index,avgrat['RestaurantName'],color='indianred')\n",
    "\n",
    "plt.title('Count of Restaurant Based on Average Rating')\n",
    "plt.xlabel('Average Rating')\n",
    "plt.ylabel('Count of Restaurants')"
   ]
  },
  {
   "cell_type": "code",
   "execution_count": 24,
   "id": "5bb02736",
   "metadata": {},
   "outputs": [
    {
     "data": {
      "text/html": [
       "<div>\n",
       "<style scoped>\n",
       "    .dataframe tbody tr th:only-of-type {\n",
       "        vertical-align: middle;\n",
       "    }\n",
       "\n",
       "    .dataframe tbody tr th {\n",
       "        vertical-align: top;\n",
       "    }\n",
       "\n",
       "    .dataframe thead th {\n",
       "        text-align: right;\n",
       "    }\n",
       "</style>\n",
       "<table border=\"1\" class=\"dataframe\">\n",
       "  <thead>\n",
       "    <tr style=\"text-align: right;\">\n",
       "      <th></th>\n",
       "      <th>RestaurantName</th>\n",
       "    </tr>\n",
       "    <tr>\n",
       "      <th>cost_bucket</th>\n",
       "      <th></th>\n",
       "    </tr>\n",
       "  </thead>\n",
       "  <tbody>\n",
       "    <tr>\n",
       "      <th>&lt;100</th>\n",
       "      <td>1027</td>\n",
       "    </tr>\n",
       "    <tr>\n",
       "      <th>100-500</th>\n",
       "      <td>5038</td>\n",
       "    </tr>\n",
       "    <tr>\n",
       "      <th>500-1000</th>\n",
       "      <td>2302</td>\n",
       "    </tr>\n",
       "    <tr>\n",
       "      <th>&gt;1000</th>\n",
       "      <td>1175</td>\n",
       "    </tr>\n",
       "  </tbody>\n",
       "</table>\n",
       "</div>"
      ],
      "text/plain": [
       "             RestaurantName\n",
       "cost_bucket                \n",
       "<100                   1027\n",
       "100-500                5038\n",
       "500-1000               2302\n",
       ">1000                  1175"
      ]
     },
     "execution_count": 24,
     "metadata": {},
     "output_type": "execute_result"
    }
   ],
   "source": [
    "#Count of restaurant based on cost buckets\n",
    "cstbuc = final_df.groupby(['cost_bucket']).agg({'RestaurantName':'size'})\n",
    "cstbuc"
   ]
  },
  {
   "cell_type": "code",
   "execution_count": 25,
   "id": "30d9a52b",
   "metadata": {},
   "outputs": [
    {
     "data": {
      "text/plain": [
       "Text(0, 0.5, 'Count of Restaurants')"
      ]
     },
     "execution_count": 25,
     "metadata": {},
     "output_type": "execute_result"
    },
    {
     "data": {
      "image/png": "[encoded data removed]",
      "text/plain": [
       "<Figure size 640x480 with 1 Axes>"
      ]
     },
     "metadata": {},
     "output_type": "display_data"
    }
   ],
   "source": [
    "plt.bar(cstbuc.index,cstbuc['RestaurantName'],color='slateblue')\n",
    "plt.title('Count of restaurant Based on Cost Buckets')\n",
    "plt.xlabel('Cost Buckets')\n",
    "plt.ylabel('Count of Restaurants')"
   ]
  },
  {
   "cell_type": "code",
   "execution_count": 26,
   "id": "0c323c16",
   "metadata": {},
   "outputs": [
    {
     "name": "stdout",
     "output_type": "stream",
     "text": [
      "Percentage of restaurants having table booking Has_Table_booking\n",
      "No     87.864179\n",
      "Yes    12.135821\n",
      "Name: Count, dtype: float64\n",
      "Percentage of restaurant having onling delivery Has_Online_delivery\n",
      "No     74.313561\n",
      "Yes    25.686439\n",
      "Name: Count, dtype: float64\n"
     ]
    }
   ],
   "source": [
    "#Percentage of Resturants based on \"Has_Table_booking\" and Percentage of Resturants based on \"Has_Online_delivery\"\n",
    "\n",
    "htb = ((final_df.groupby(['Has_Table_booking']).agg({'RestaurantName':'count'}))/final_df['Has_Table_booking'].count()*100).rename(columns={'RestaurantName':'Count'})\n",
    "hod = (final_df.groupby(['Has_Online_delivery']).agg({'RestaurantName':'count'})/final_df['Has_Online_delivery'].count()*100).rename(columns={'RestaurantName':'Count'})\n",
    "\n",
    "print('Percentage of restaurants having table booking',htb['Count'])\n",
    "print('Percentage of restaurant having onling delivery', hod['Count'])\n",
    "\n"
   ]
  },
  {
   "cell_type": "code",
   "execution_count": 27,
   "id": "472df2bd",
   "metadata": {},
   "outputs": [
    {
     "data": {
      "text/plain": [
       "Text(0.5, 1.0, 'Percent of Restaurants having table booking')"
      ]
     },
     "execution_count": 27,
     "metadata": {},
     "output_type": "execute_result"
    },
    {
     "data": {
      "image/png": "[encoded data removed]",
      "text/plain": [
       "<Figure size 640x480 with 1 Axes>"
      ]
     },
     "metadata": {},
     "output_type": "display_data"
    }
   ],
   "source": [
    "explode=[0,0.2]\n",
    "colors=['grey','indianred']\n",
    "plt.pie(htb['Count'],labels=htb.index,startangle= 180, explode=explode, shadow=True, colors=colors, autopct='%1.2f%%')\n",
    "plt.title('Percent of Restaurants having table booking')"
   ]
  },
  {
   "cell_type": "code",
   "execution_count": 28,
   "id": "5c0a29d1",
   "metadata": {},
   "outputs": [
    {
     "data": {
      "text/plain": [
       "Text(0.5, 1.0, 'Percent of Restaurants having Online Delivery')"
      ]
     },
     "execution_count": 28,
     "metadata": {},
     "output_type": "execute_result"
    },
    {
     "data": {
      "image/png": "[encoded data removed]",
      "text/plain": [
       "<Figure size 640x480 with 1 Axes>"
      ]
     },
     "metadata": {},
     "output_type": "display_data"
    }
   ],
   "source": [
    "explode=[0,0.1]\n",
    "colors=['grey','indianred']\n",
    "plt.pie(hod['Count'],labels=htb.index,startangle= 180, explode=explode, shadow=True, colors=colors, autopct='%1.2f%%')\n",
    "plt.title('Percent of Restaurants having Online Delivery')"
   ]
  },
  {
   "cell_type": "code",
   "execution_count": 29,
   "id": "e00cd384",
   "metadata": {},
   "outputs": [
    {
     "data": {
      "text/html": [
       "<div>\n",
       "<style scoped>\n",
       "    .dataframe tbody tr th:only-of-type {\n",
       "        vertical-align: middle;\n",
       "    }\n",
       "\n",
       "    .dataframe tbody tr th {\n",
       "        vertical-align: top;\n",
       "    }\n",
       "\n",
       "    .dataframe thead th {\n",
       "        text-align: right;\n",
       "    }\n",
       "</style>\n",
       "<table border=\"1\" class=\"dataframe\">\n",
       "  <thead>\n",
       "    <tr style=\"text-align: right;\">\n",
       "      <th></th>\n",
       "      <th>RestaurantName</th>\n",
       "    </tr>\n",
       "    <tr>\n",
       "      <th>Price_range</th>\n",
       "      <th></th>\n",
       "    </tr>\n",
       "  </thead>\n",
       "  <tbody>\n",
       "    <tr>\n",
       "      <th>1</th>\n",
       "      <td>4438</td>\n",
       "    </tr>\n",
       "    <tr>\n",
       "      <th>2</th>\n",
       "      <td>3113</td>\n",
       "    </tr>\n",
       "    <tr>\n",
       "      <th>3</th>\n",
       "      <td>1405</td>\n",
       "    </tr>\n",
       "    <tr>\n",
       "      <th>4</th>\n",
       "      <td>586</td>\n",
       "    </tr>\n",
       "  </tbody>\n",
       "</table>\n",
       "</div>"
      ],
      "text/plain": [
       "             RestaurantName\n",
       "Price_range                \n",
       "1                      4438\n",
       "2                      3113\n",
       "3                      1405\n",
       "4                       586"
      ]
     },
     "execution_count": 29,
     "metadata": {},
     "output_type": "execute_result"
    }
   ],
   "source": [
    "#count of restaurant based on price range\n",
    "\n",
    "prrn = final_df.groupby(['Price_range']).agg({'RestaurantName':'count'})\n",
    "prrn"
   ]
  },
  {
   "cell_type": "code",
   "execution_count": 30,
   "id": "8d77f91d",
   "metadata": {},
   "outputs": [
    {
     "data": {
      "text/html": [
       "<div>\n",
       "<style scoped>\n",
       "    .dataframe tbody tr th:only-of-type {\n",
       "        vertical-align: middle;\n",
       "    }\n",
       "\n",
       "    .dataframe tbody tr th {\n",
       "        vertical-align: top;\n",
       "    }\n",
       "\n",
       "    .dataframe thead th {\n",
       "        text-align: right;\n",
       "    }\n",
       "</style>\n",
       "<table border=\"1\" class=\"dataframe\">\n",
       "  <thead>\n",
       "    <tr style=\"text-align: right;\">\n",
       "      <th></th>\n",
       "      <th>Average_cost_USD</th>\n",
       "    </tr>\n",
       "    <tr>\n",
       "      <th>Countryname</th>\n",
       "      <th></th>\n",
       "    </tr>\n",
       "  </thead>\n",
       "  <tbody>\n",
       "    <tr>\n",
       "      <th>Turkey</th>\n",
       "      <td>4.242647</td>\n",
       "    </tr>\n",
       "    <tr>\n",
       "      <th>India</th>\n",
       "      <td>7.480444</td>\n",
       "    </tr>\n",
       "    <tr>\n",
       "      <th>Sri lanka</th>\n",
       "      <td>8.075000</td>\n",
       "    </tr>\n",
       "    <tr>\n",
       "      <th>Indonasia</th>\n",
       "      <td>18.839762</td>\n",
       "    </tr>\n",
       "    <tr>\n",
       "      <th>South Africa</th>\n",
       "      <td>21.406400</td>\n",
       "    </tr>\n",
       "    <tr>\n",
       "      <th>Australia</th>\n",
       "      <td>24.083333</td>\n",
       "    </tr>\n",
       "    <tr>\n",
       "      <th>United States</th>\n",
       "      <td>26.352941</td>\n",
       "    </tr>\n",
       "    <tr>\n",
       "      <th>Brazil</th>\n",
       "      <td>26.933333</td>\n",
       "    </tr>\n",
       "    <tr>\n",
       "      <th>Canada</th>\n",
       "      <td>36.250000</td>\n",
       "    </tr>\n",
       "    <tr>\n",
       "      <th>New Zealand</th>\n",
       "      <td>41.850000</td>\n",
       "    </tr>\n",
       "    <tr>\n",
       "      <th>United Arab Emirates</th>\n",
       "      <td>44.932500</td>\n",
       "    </tr>\n",
       "    <tr>\n",
       "      <th>United Kingdom</th>\n",
       "      <td>59.287500</td>\n",
       "    </tr>\n",
       "    <tr>\n",
       "      <th>Qatar</th>\n",
       "      <td>60.412500</td>\n",
       "    </tr>\n",
       "    <tr>\n",
       "      <th>Phillipines</th>\n",
       "      <td>117.297727</td>\n",
       "    </tr>\n",
       "    <tr>\n",
       "      <th>Singapore</th>\n",
       "      <td>155.750000</td>\n",
       "    </tr>\n",
       "  </tbody>\n",
       "</table>\n",
       "</div>"
      ],
      "text/plain": [
       "                      Average_cost_USD\n",
       "Countryname                           \n",
       "Turkey                        4.242647\n",
       "India                         7.480444\n",
       "Sri lanka                     8.075000\n",
       "Indonasia                    18.839762\n",
       "South Africa                 21.406400\n",
       "Australia                    24.083333\n",
       "United States                26.352941\n",
       "Brazil                       26.933333\n",
       "Canada                       36.250000\n",
       "New Zealand                  41.850000\n",
       "United Arab Emirates         44.932500\n",
       "United Kingdom               59.287500\n",
       "Qatar                        60.412500\n",
       "Phillipines                 117.297727\n",
       "Singapore                   155.750000"
      ]
     },
     "execution_count": 30,
     "metadata": {},
     "output_type": "execute_result"
    }
   ],
   "source": [
    "# country by average cost in USD\n",
    "avgusd = final_df.groupby(['Countryname']).agg({'Average_cost_USD':'mean'})\n",
    "avgusd = avgusd.sort_values('Average_cost_USD',ascending=True)\n",
    "avgusd"
   ]
  },
  {
   "cell_type": "code",
   "execution_count": 31,
   "id": "76cceb5a",
   "metadata": {},
   "outputs": [
    {
     "data": {
      "text/plain": [
       "Text(0.5, 1.0, 'Number of Restaurants by Country')"
      ]
     },
     "execution_count": 31,
     "metadata": {},
     "output_type": "execute_result"
    },
    {
     "data": {
      "image/png": "[encoded data removed]",
      "text/plain": [
       "<Figure size 640x480 with 1 Axes>"
      ]
     },
     "metadata": {},
     "output_type": "display_data"
    }
   ],
   "source": [
    "plt.barh(avgusd.index,avgusd['Average_cost_USD'],color='royalblue')\n",
    "\n",
    "for i,v in enumerate(avgusd['Average_cost_USD']):\n",
    "    rounded = float(round(v,1))\n",
    "    plt.text(v, i, rounded, va='center', fontsize=10, color='grey')\n",
    "    \n",
    "plt.xlabel('Number of Restaurants')\n",
    "plt.ylabel('Country')\n",
    "plt.title('Number of Restaurants by Country')"
   ]
  },
  {
   "cell_type": "code",
   "execution_count": 32,
   "id": "addbdba5",
   "metadata": {},
   "outputs": [
    {
     "data": {
      "text/html": [
       "<div>\n",
       "<style scoped>\n",
       "    .dataframe tbody tr th:only-of-type {\n",
       "        vertical-align: middle;\n",
       "    }\n",
       "\n",
       "    .dataframe tbody tr th {\n",
       "        vertical-align: top;\n",
       "    }\n",
       "\n",
       "    .dataframe thead th {\n",
       "        text-align: right;\n",
       "    }\n",
       "</style>\n",
       "<table border=\"1\" class=\"dataframe\">\n",
       "  <thead>\n",
       "    <tr style=\"text-align: right;\">\n",
       "      <th></th>\n",
       "      <th>RestaurantName</th>\n",
       "    </tr>\n",
       "    <tr>\n",
       "      <th>Cuisines</th>\n",
       "      <th></th>\n",
       "    </tr>\n",
       "  </thead>\n",
       "  <tbody>\n",
       "    <tr>\n",
       "      <th>North Indian</th>\n",
       "      <td>936</td>\n",
       "    </tr>\n",
       "    <tr>\n",
       "      <th>North Indian, Chinese</th>\n",
       "      <td>511</td>\n",
       "    </tr>\n",
       "    <tr>\n",
       "      <th>Chinese</th>\n",
       "      <td>354</td>\n",
       "    </tr>\n",
       "    <tr>\n",
       "      <th>Fast Food</th>\n",
       "      <td>354</td>\n",
       "    </tr>\n",
       "    <tr>\n",
       "      <th>North Indian, Mughlai</th>\n",
       "      <td>334</td>\n",
       "    </tr>\n",
       "    <tr>\n",
       "      <th>Cafe</th>\n",
       "      <td>299</td>\n",
       "    </tr>\n",
       "    <tr>\n",
       "      <th>Bakery</th>\n",
       "      <td>218</td>\n",
       "    </tr>\n",
       "    <tr>\n",
       "      <th>North Indian, Mughlai, Chinese</th>\n",
       "      <td>197</td>\n",
       "    </tr>\n",
       "    <tr>\n",
       "      <th>Bakery, Desserts</th>\n",
       "      <td>170</td>\n",
       "    </tr>\n",
       "    <tr>\n",
       "      <th>Street Food</th>\n",
       "      <td>149</td>\n",
       "    </tr>\n",
       "  </tbody>\n",
       "</table>\n",
       "</div>"
      ],
      "text/plain": [
       "                                RestaurantName\n",
       "Cuisines                                      \n",
       "North Indian                               936\n",
       "North Indian, Chinese                      511\n",
       "Chinese                                    354\n",
       "Fast Food                                  354\n",
       "North Indian, Mughlai                      334\n",
       "Cafe                                       299\n",
       "Bakery                                     218\n",
       "North Indian, Mughlai, Chinese             197\n",
       "Bakery, Desserts                           170\n",
       "Street Food                                149"
      ]
     },
     "execution_count": 32,
     "metadata": {},
     "output_type": "execute_result"
    }
   ],
   "source": [
    "#top 10 most popular cuisines\n",
    "popcui = final_df.groupby(['Cuisines']).agg({'RestaurantName':'count'}).nlargest(10,'RestaurantName')\n",
    "popcui"
   ]
  },
  {
   "cell_type": "code",
   "execution_count": 33,
   "id": "ad5ce669",
   "metadata": {},
   "outputs": [
    {
     "data": {
      "text/plain": [
       "Text(0.5, 1.0, 'Top 10 Most Popular Cuisines')"
      ]
     },
     "execution_count": 33,
     "metadata": {},
     "output_type": "execute_result"
    },
    {
     "data": {
      "image/png": "[encoded data removed]",
      "text/plain": [
       "<Figure size 640x480 with 1 Axes>"
      ]
     },
     "metadata": {},
     "output_type": "display_data"
    }
   ],
   "source": [
    "plt.pie(popcui['RestaurantName'],labels=popcui.index,autopct='%1.1f%%')\n",
    "plt.title('Top 10 Most Popular Cuisines')"
   ]
  },
  {
   "cell_type": "code",
   "execution_count": 53,
   "id": "c614a484",
   "metadata": {},
   "outputs": [
    {
     "data": {
      "text/html": [
       "<div>\n",
       "<style scoped>\n",
       "    .dataframe tbody tr th:only-of-type {\n",
       "        vertical-align: middle;\n",
       "    }\n",
       "\n",
       "    .dataframe tbody tr th {\n",
       "        vertical-align: top;\n",
       "    }\n",
       "\n",
       "    .dataframe thead th {\n",
       "        text-align: right;\n",
       "    }\n",
       "</style>\n",
       "<table border=\"1\" class=\"dataframe\">\n",
       "  <thead>\n",
       "    <tr style=\"text-align: right;\">\n",
       "      <th></th>\n",
       "      <th>Average_cost_USD</th>\n",
       "    </tr>\n",
       "    <tr>\n",
       "      <th>Cuisines</th>\n",
       "      <th></th>\n",
       "    </tr>\n",
       "  </thead>\n",
       "  <tbody>\n",
       "    <tr>\n",
       "      <th>French, Mediterranean, European</th>\n",
       "      <td>500.0</td>\n",
       "    </tr>\n",
       "    <tr>\n",
       "      <th>European, Asian, Indian</th>\n",
       "      <td>438.0</td>\n",
       "    </tr>\n",
       "    <tr>\n",
       "      <th>Chinese, Continental, Singaporean</th>\n",
       "      <td>300.0</td>\n",
       "    </tr>\n",
       "    <tr>\n",
       "      <th>Chinese, Seafood, Cantonese, Dim Sum</th>\n",
       "      <td>300.0</td>\n",
       "    </tr>\n",
       "    <tr>\n",
       "      <th>Seafood, Asian, Filipino, Indian</th>\n",
       "      <td>292.0</td>\n",
       "    </tr>\n",
       "  </tbody>\n",
       "</table>\n",
       "</div>"
      ],
      "text/plain": [
       "                                      Average_cost_USD\n",
       "Cuisines                                              \n",
       "French, Mediterranean, European                  500.0\n",
       "European, Asian, Indian                          438.0\n",
       "Chinese, Continental, Singaporean                300.0\n",
       "Chinese, Seafood, Cantonese, Dim Sum             300.0\n",
       "Seafood, Asian, Filipino, Indian                 292.0"
      ]
     },
     "execution_count": 53,
     "metadata": {},
     "output_type": "execute_result"
    }
   ],
   "source": [
    "# on average 5 most expensive Cuisines\n",
    "expcui = final_df.groupby(['Cuisines'])[['Average_cost_USD']].mean().nlargest(5,'Average_cost_USD')\n",
    "expcui"
   ]
  },
  {
   "cell_type": "code",
   "execution_count": 35,
   "id": "2be05a01",
   "metadata": {},
   "outputs": [
    {
     "data": {
      "text/plain": [
       "Text(0.5, 1.0, 'Top 5 most Expensive Cuisines in USD')"
      ]
     },
     "execution_count": 35,
     "metadata": {},
     "output_type": "execute_result"
    },
    {
     "data": {
      "image/png": "[encoded data removed]",
      "text/plain": [
       "<Figure size 640x480 with 1 Axes>"
      ]
     },
     "metadata": {},
     "output_type": "display_data"
    }
   ],
   "source": [
    "plt.barh(expcui.index,expcui['Average_cost_USD'],color='goldenrod')\n",
    "\n",
    "for i,v in enumerate(expcui['Average_cost_USD']):\n",
    "    plt.text(v,i,v,fontsize=10, va='center', color='grey')\n",
    "    \n",
    "plt.xlabel('Average Cost in USD')\n",
    "plt.ylabel('Cuisines')\n",
    "plt.title('Top 5 most Expensive Cuisines in USD')"
   ]
  },
  {
   "cell_type": "code",
   "execution_count": 36,
   "id": "cbcebc71",
   "metadata": {},
   "outputs": [],
   "source": [
    "#Restaurant opening by month and year\n",
    "\n",
    "def indian_financial_month(date):\n",
    "    if date.month >3:\n",
    "        return date.month - 3\n",
    "    else:\n",
    "        return date.month + 9\n",
    "final_df['indian_month'] = final_df['Datekey_Opening'].apply(indian_financial_month)"
   ]
  },
  {
   "cell_type": "code",
   "execution_count": 37,
   "id": "97b64293",
   "metadata": {},
   "outputs": [
    {
     "data": {
      "text/html": [
       "<div>\n",
       "<style scoped>\n",
       "    .dataframe tbody tr th:only-of-type {\n",
       "        vertical-align: middle;\n",
       "    }\n",
       "\n",
       "    .dataframe tbody tr th {\n",
       "        vertical-align: top;\n",
       "    }\n",
       "\n",
       "    .dataframe thead th {\n",
       "        text-align: right;\n",
       "    }\n",
       "</style>\n",
       "<table border=\"1\" class=\"dataframe\">\n",
       "  <thead>\n",
       "    <tr style=\"text-align: right;\">\n",
       "      <th></th>\n",
       "      <th>Month</th>\n",
       "      <th>RestaurantName</th>\n",
       "    </tr>\n",
       "  </thead>\n",
       "  <tbody>\n",
       "    <tr>\n",
       "      <th>0</th>\n",
       "      <td>1</td>\n",
       "      <td>797</td>\n",
       "    </tr>\n",
       "    <tr>\n",
       "      <th>1</th>\n",
       "      <td>2</td>\n",
       "      <td>780</td>\n",
       "    </tr>\n",
       "    <tr>\n",
       "      <th>2</th>\n",
       "      <td>3</td>\n",
       "      <td>815</td>\n",
       "    </tr>\n",
       "    <tr>\n",
       "      <th>3</th>\n",
       "      <td>4</td>\n",
       "      <td>826</td>\n",
       "    </tr>\n",
       "    <tr>\n",
       "      <th>4</th>\n",
       "      <td>5</td>\n",
       "      <td>796</td>\n",
       "    </tr>\n",
       "    <tr>\n",
       "      <th>5</th>\n",
       "      <td>6</td>\n",
       "      <td>835</td>\n",
       "    </tr>\n",
       "    <tr>\n",
       "      <th>6</th>\n",
       "      <td>7</td>\n",
       "      <td>800</td>\n",
       "    </tr>\n",
       "    <tr>\n",
       "      <th>7</th>\n",
       "      <td>8</td>\n",
       "      <td>779</td>\n",
       "    </tr>\n",
       "    <tr>\n",
       "      <th>8</th>\n",
       "      <td>9</td>\n",
       "      <td>787</td>\n",
       "    </tr>\n",
       "    <tr>\n",
       "      <th>9</th>\n",
       "      <td>10</td>\n",
       "      <td>745</td>\n",
       "    </tr>\n",
       "    <tr>\n",
       "      <th>10</th>\n",
       "      <td>11</td>\n",
       "      <td>744</td>\n",
       "    </tr>\n",
       "    <tr>\n",
       "      <th>11</th>\n",
       "      <td>12</td>\n",
       "      <td>838</td>\n",
       "    </tr>\n",
       "  </tbody>\n",
       "</table>\n",
       "</div>"
      ],
      "text/plain": [
       "    Month  RestaurantName\n",
       "0       1             797\n",
       "1       2             780\n",
       "2       3             815\n",
       "3       4             826\n",
       "4       5             796\n",
       "5       6             835\n",
       "6       7             800\n",
       "7       8             779\n",
       "8       9             787\n",
       "9      10             745\n",
       "10     11             744\n",
       "11     12             838"
      ]
     },
     "execution_count": 37,
     "metadata": {},
     "output_type": "execute_result"
    }
   ],
   "source": [
    "# count of restaurant opening per indian financial month\n",
    "cntmt = final_df.groupby(final_df['Datekey_Opening'].apply(indian_financial_month)).agg({'RestaurantName':'count'}).rename_axis('Month').reset_index()\n",
    "cntmt"
   ]
  },
  {
   "cell_type": "code",
   "execution_count": 57,
   "id": "91155b5d",
   "metadata": {},
   "outputs": [
    {
     "data": {
      "text/html": [
       "<div>\n",
       "<style scoped>\n",
       "    .dataframe tbody tr th:only-of-type {\n",
       "        vertical-align: middle;\n",
       "    }\n",
       "\n",
       "    .dataframe tbody tr th {\n",
       "        vertical-align: top;\n",
       "    }\n",
       "\n",
       "    .dataframe thead th {\n",
       "        text-align: right;\n",
       "    }\n",
       "</style>\n",
       "<table border=\"1\" class=\"dataframe\">\n",
       "  <thead>\n",
       "    <tr style=\"text-align: right;\">\n",
       "      <th></th>\n",
       "      <th>Year</th>\n",
       "      <th>RestaurantName</th>\n",
       "    </tr>\n",
       "  </thead>\n",
       "  <tbody>\n",
       "    <tr>\n",
       "      <th>0</th>\n",
       "      <td>2010</td>\n",
       "      <td>1079</td>\n",
       "    </tr>\n",
       "    <tr>\n",
       "      <th>1</th>\n",
       "      <td>2011</td>\n",
       "      <td>1096</td>\n",
       "    </tr>\n",
       "    <tr>\n",
       "      <th>2</th>\n",
       "      <td>2012</td>\n",
       "      <td>1022</td>\n",
       "    </tr>\n",
       "    <tr>\n",
       "      <th>3</th>\n",
       "      <td>2013</td>\n",
       "      <td>1059</td>\n",
       "    </tr>\n",
       "    <tr>\n",
       "      <th>4</th>\n",
       "      <td>2014</td>\n",
       "      <td>1049</td>\n",
       "    </tr>\n",
       "    <tr>\n",
       "      <th>5</th>\n",
       "      <td>2015</td>\n",
       "      <td>1023</td>\n",
       "    </tr>\n",
       "    <tr>\n",
       "      <th>6</th>\n",
       "      <td>2016</td>\n",
       "      <td>1026</td>\n",
       "    </tr>\n",
       "    <tr>\n",
       "      <th>7</th>\n",
       "      <td>2017</td>\n",
       "      <td>1086</td>\n",
       "    </tr>\n",
       "    <tr>\n",
       "      <th>8</th>\n",
       "      <td>2018</td>\n",
       "      <td>1102</td>\n",
       "    </tr>\n",
       "  </tbody>\n",
       "</table>\n",
       "</div>"
      ],
      "text/plain": [
       "   Year  RestaurantName\n",
       "0  2010            1079\n",
       "1  2011            1096\n",
       "2  2012            1022\n",
       "3  2013            1059\n",
       "4  2014            1049\n",
       "5  2015            1023\n",
       "6  2016            1026\n",
       "7  2017            1086\n",
       "8  2018            1102"
      ]
     },
     "execution_count": 57,
     "metadata": {},
     "output_type": "execute_result"
    }
   ],
   "source": [
    "cntyr = final_df.groupby(final_df['Datekey_Opening'].dt.year).agg({'RestaurantName':'count'}).rename_axis('Year').reset_index()\n",
    "cntyr"
   ]
  }
 ],
 "metadata": {
  "kernelspec": {
   "display_name": "Python 3 (ipykernel)",
   "language": "python",
   "name": "python3"
  },
  "language_info": {
   "codemirror_mode": {
    "name": "ipython",
    "version": 3
   },
   "file_extension": ".py",
   "mimetype": "text/x-python",
   "name": "python",
   "nbconvert_exporter": "python",
   "pygments_lexer": "ipython3",
   "version": "3.10.9"
  }
 },
 "nbformat": 4,
 "nbformat_minor": 5
}
